{
  "nbformat": 4,
  "nbformat_minor": 0,
  "metadata": {
    "colab": {
      "provenance": [],
      "gpuType": "T4"
    },
    "kernelspec": {
      "name": "python3",
      "display_name": "Python 3"
    },
    "language_info": {
      "name": "python"
    },
    "accelerator": "GPU"
  },
  "cells": [
    {
      "cell_type": "code",
      "execution_count": null,
      "metadata": {
        "id": "CJxRNz-tWRtG"
      },
      "outputs": [],
      "source": [
        "import torch\n",
        "import torch.nn as nn\n",
        "import torch.optim as optim\n",
        "import torchvision\n",
        "from torchvision import transforms, datasets\n",
        "from torch.utils.data import DataLoader\n",
        "from torchvision.datasets import ImageFolder  # for scenery dataset\n",
        "from torch.utils.tensorboard import SummaryWriter\n",
        "\n",
        "# DCGAN-compatible Discriminator\n",
        "class Discriminator(nn.Module):\n",
        "    def __init__(self, img_channels, features_d=64):\n",
        "        super().__init__()\n",
        "        self.disc = nn.Sequential(\n",
        "            nn.Conv2d(img_channels, features_d, 4, 2, 1, bias=False),\n",
        "            nn.LeakyReLU(0.2, inplace=True),\n",
        "\n",
        "            nn.Conv2d(features_d, features_d * 2, 4, 2, 1, bias=False),\n",
        "            nn.BatchNorm2d(features_d * 2),\n",
        "            nn.LeakyReLU(0.2, inplace=True),\n",
        "\n",
        "            nn.Conv2d(features_d * 2, features_d * 4, 4, 2, 1, bias=False),\n",
        "            nn.BatchNorm2d(features_d * 4),\n",
        "            nn.LeakyReLU(0.2, inplace=True),\n",
        "\n",
        "            nn.Conv2d(features_d * 4, features_d * 8, 4, 2, 1, bias=False),\n",
        "            nn.BatchNorm2d(features_d * 8),\n",
        "            nn.LeakyReLU(0.2, inplace=True),\n",
        "\n",
        "            nn.Conv2d(features_d * 8, 1, 4, 1, 0, bias=False),\n",
        "            nn.Sigmoid()\n",
        "        )\n",
        "\n",
        "    def forward(self, x):\n",
        "        return self.disc(x)\n",
        "\n",
        "\n",
        "# DCGAN-compatible Generator\n",
        "class Generator(nn.Module):\n",
        "    def __init__(self, z_dim, img_channels, features_g=64):\n",
        "        super().__init__()\n",
        "        self.gen = nn.Sequential(\n",
        "            nn.ConvTranspose2d(z_dim, features_g * 8, 4, 1, 0, bias=False),\n",
        "            nn.BatchNorm2d(features_g * 8),\n",
        "            nn.ReLU(True),\n",
        "\n",
        "            nn.ConvTranspose2d(features_g * 8, features_g * 4, 4, 2, 1, bias=False),\n",
        "            nn.BatchNorm2d(features_g * 4),\n",
        "            nn.ReLU(True),\n",
        "\n",
        "            nn.ConvTranspose2d(features_g * 4, features_g * 2, 4, 2, 1, bias=False),\n",
        "            nn.BatchNorm2d(features_g * 2),\n",
        "            nn.ReLU(True),\n",
        "\n",
        "            nn.ConvTranspose2d(features_g * 2, features_g, 4, 2, 1, bias=False),\n",
        "            nn.BatchNorm2d(features_g),\n",
        "            nn.ReLU(True),\n",
        "\n",
        "            nn.ConvTranspose2d(features_g, img_channels, 4, 2, 1, bias=False),\n",
        "            nn.Tanh()\n",
        "        )\n",
        "\n",
        "    def forward(self, x):\n",
        "        return self.gen(x)\n"
      ]
    },
    {
      "cell_type": "code",
      "source": [
        "from google.colab import files\n",
        "files.upload()  # Then upload your kaggle.json\n",
        "\n",
        "!mkdir ~/.kaggle\n",
        "!cp kaggle.json ~/.kaggle/\n",
        "!chmod 600 ~/.kaggle/kaggle.json\n"
      ],
      "metadata": {
        "id": "SZR0JR9PcTbL"
      },
      "execution_count": null,
      "outputs": []
    },
    {
      "cell_type": "code",
      "source": [
        "!pip install kaggle\n",
        "!kaggle datasets download -d arnaud58/landscape-pictures\n",
        "!unzip landscape-pictures.zip -d dataset/"
      ],
      "metadata": {
        "id": "0-ZQg4UFcUlc"
      },
      "execution_count": null,
      "outputs": []
    },
    {
      "cell_type": "code",
      "source": [
        "!mkdir dataset/scenery\n",
        "!mv dataset/*.jpg dataset/scenery/\n"
      ],
      "metadata": {
        "id": "AYWfppDKe15_"
      },
      "execution_count": null,
      "outputs": []
    },
    {
      "cell_type": "code",
      "source": [
        "\n",
        "device = \"cuda\" if torch.cuda.is_available() else \"cpu\"\n",
        "lr = 3e-4\n",
        "z_dim = 128\n",
        "image_channels = 3\n",
        "image_size = 64\n",
        "batch_size = 128\n",
        "num_epochs = 100\n",
        "\n",
        "# Init models\n",
        "gen = Generator(z_dim=z_dim, img_channels=3, features_g=64).to(device)\n",
        "disc = Discriminator(img_channels=3, features_d=64).to(device)\n",
        "\n",
        "\n",
        "# Fixed noise to visualize progress\n",
        "fixed_noise = torch.randn(batch_size, z_dim, 1, 1).to(device)\n",
        "\n",
        "# Data transform for images\n",
        "transform = transforms.Compose([\n",
        "    transforms.Resize(image_size),\n",
        "    transforms.CenterCrop(image_size),\n",
        "    transforms.ToTensor(),\n",
        "    transforms.Normalize([0.5 for _ in range(image_channels)],\n",
        "                         [0.5 for _ in range(image_channels)]),\n",
        "])\n",
        "\n",
        "# If images are inside a folder like \"dataset/landscape\"\n",
        "dataset = ImageFolder(root=\"dataset\", transform=transform)\n",
        "loader = DataLoader(dataset, batch_size=batch_size, shuffle=True)\n",
        "\n",
        "# Optimizers and loss\n",
        "opt_disc = optim.Adam(disc.parameters(), lr=lr, betas=(0.5, 0.999))\n",
        "opt_gen = optim.Adam(gen.parameters(), lr=lr, betas=(0.5, 0.999))\n",
        "criterion = nn.BCELoss()\n"
      ],
      "metadata": {
        "id": "9dLzkqXBamZ0"
      },
      "execution_count": null,
      "outputs": []
    },
    {
      "cell_type": "code",
      "metadata": {
        "id": "8a402e34"
      },
      "source": [
        "%load_ext tensorboard\n",
        "%tensorboard --logdir runs\n"
      ],
      "execution_count": null,
      "outputs": []
    },
    {
      "cell_type": "code",
      "source": [
        "writer_fake = SummaryWriter(f\"runs/DCGAN_Dataset/fake\")\n",
        "writer_real = SummaryWriter(f\"runs/DCGAN_Dataset/real\")\n",
        "step = 0\n",
        "real_label = 0.9\n",
        "fake_label = 0.0\n",
        "for epoch in range(num_epochs):\n",
        "    for batch_idx, (real, _) in enumerate(loader):\n",
        "        real = real.to(device)\n",
        "        batch_size = real.size(0)\n",
        "\n",
        "        # Train Discriminator\n",
        "        noise = torch.randn(batch_size, z_dim, 1, 1).to(device)\n",
        "        fake = gen(noise)\n",
        "\n",
        "        disc_real = disc(real).view(-1)\n",
        "        lossD_real = criterion(disc_real, torch.full_like(disc_real, real_label))\n",
        "\n",
        "\n",
        "\n",
        "        disc_fake = disc(fake.detach()).view(-1)  # detach so gen doesn't get gradients\n",
        "        lossD_fake = criterion(disc_fake, torch.full_like(disc_fake, fake_label))\n",
        "\n",
        "        lossD = (lossD_real + lossD_fake) / 2\n",
        "        disc.zero_grad()\n",
        "        lossD.backward()\n",
        "        opt_disc.step()\n",
        "\n",
        "        # Train Generator\n",
        "        output = disc(fake).view(-1)\n",
        "        lossG = criterion(output, torch.ones_like(output))\n",
        "        gen.zero_grad()\n",
        "        lossG.backward()\n",
        "        opt_gen.step()\n",
        "\n",
        "        # Logging\n",
        "        if batch_idx == 0:\n",
        "            print(\n",
        "                f\"Epoch [{epoch}/{num_epochs}] Batch {batch_idx}/{len(loader)} \"\n",
        "                f\"Loss D: {lossD:.4f}, loss G: {lossG:.4f}\"\n",
        "            )\n",
        "\n",
        "            with torch.no_grad():\n",
        "                fake = gen(fixed_noise)\n",
        "                img_grid_fake = torchvision.utils.make_grid(fake, normalize=True)\n",
        "                img_grid_real = torchvision.utils.make_grid(real, normalize=True)\n",
        "\n",
        "                writer_fake.add_image(\"Fake Images\", img_grid_fake, global_step=step)\n",
        "                writer_real.add_image(\"Real Images\", img_grid_real, global_step=step)\n",
        "\n",
        "                # ✅ Loss curve logging\n",
        "                writer_fake.add_scalar(\"Loss/Generator\", lossG.item(), global_step=step)\n",
        "                writer_fake.add_scalar(\"Loss/Discriminator\", lossD.item(), global_step=step)\n",
        "\n",
        "                step += 1\n",
        "        # Save model every 5 epochs\n",
        "    if epoch % 5 == 0:\n",
        "        torch.save(gen.state_dict(), f\"generator_epoch{epoch}.pth\")\n",
        "\n",
        "\n"
      ],
      "metadata": {
        "id": "SILP4pyefGX-"
      },
      "execution_count": null,
      "outputs": []
    }
  ]
}